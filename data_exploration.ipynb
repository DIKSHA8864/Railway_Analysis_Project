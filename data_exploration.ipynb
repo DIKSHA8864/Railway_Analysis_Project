{
 "cells": [
  {
   "cell_type": "code",
   "execution_count": 1,
   "id": "83673204-f9db-4d65-a5e9-50f5f8e0ce2f",
   "metadata": {},
   "outputs": [],
   "source": [
    "import pandas as pd\n",
    "\n",
    "# ✅ Load directly from base folder\n",
    "df = pd.read_csv('Railway_info.csv')\n"
   ]
  },
  {
   "cell_type": "code",
   "execution_count": 2,
   "id": "a5d6328b-b27b-4729-a966-13b715d26357",
   "metadata": {},
   "outputs": [
    {
     "name": "stdout",
     "output_type": "stream",
     "text": [
      "   Train_No    Train_Name           Source_Station_Name  \\\n",
      "0       107  SWV-MAO-VLNK               SAWANTWADI ROAD   \n",
      "1       108  VLNK-MAO-SWV                   MADGOAN JN.   \n",
      "2       128  MAO-KOP SPEC                   MADGOAN JN.   \n",
      "3       290  PALACE ON WH             DELHI-SAFDAR JANG   \n",
      "4       401  BSB BHARATDA                    AURANGABAD   \n",
      "5       421  LKO-SVDK FTR                   LUCKNOW JN.   \n",
      "6       422  SVDK-LKO FTR  SHRI MATA VAISHNO DEVI KATRA   \n",
      "7       477  FTR TRAIN NO                         SIRSA   \n",
      "8       502  RJPB-UMB FTR        RAJENDRANAGAR TERMINAL   \n",
      "9       504  PNBE-BTI FTR                     PATNA JN.   \n",
      "\n",
      "             Destination_Station_Name       days  \n",
      "0                         MADGOAN JN.   Saturday  \n",
      "1                     SAWANTWADI ROAD     Friday  \n",
      "2  CHHATRAPATI SHAHU MAHARAJ TERMINUS     Friday  \n",
      "3                   DELHI-SAFDAR JANG  Wednesday  \n",
      "4                        VARANASI JN.   Saturday  \n",
      "5        SHRI MATA VAISHNO DEVI KATRA    Tuesday  \n",
      "6                         LUCKNOW JN.     Monday  \n",
      "7                               SIRSA     Sunday  \n",
      "8                     AMBALA CANTT JN     Monday  \n",
      "9                         BATHINDA JN  Wednesday  \n"
     ]
    }
   ],
   "source": [
    "print(df.head(10))\n"
   ]
  },
  {
   "cell_type": "code",
   "execution_count": 3,
   "id": "99453362-d7cb-4b93-b89a-3794a467285c",
   "metadata": {},
   "outputs": [
    {
     "name": "stdout",
     "output_type": "stream",
     "text": [
      "<class 'pandas.core.frame.DataFrame'>\n",
      "RangeIndex: 11113 entries, 0 to 11112\n",
      "Data columns (total 5 columns):\n",
      " #   Column                    Non-Null Count  Dtype \n",
      "---  ------                    --------------  ----- \n",
      " 0   Train_No                  11113 non-null  int64 \n",
      " 1   Train_Name                11113 non-null  object\n",
      " 2   Source_Station_Name       11113 non-null  object\n",
      " 3   Destination_Station_Name  11113 non-null  object\n",
      " 4   days                      11113 non-null  object\n",
      "dtypes: int64(1), object(4)\n",
      "memory usage: 434.2+ KB\n",
      "None\n",
      "           Train_No\n",
      "count  11113.000000\n",
      "mean   49190.570413\n",
      "std    28515.986645\n",
      "min      107.000000\n",
      "25%    22607.000000\n",
      "50%    47174.000000\n",
      "75%    68012.000000\n",
      "max    99908.000000\n"
     ]
    }
   ],
   "source": [
    "# See data types & non-null counts\n",
    "print(df.info())\n",
    "\n",
    "# See summary stats (for numeric columns)\n",
    "print(df.describe())\n"
   ]
  },
  {
   "cell_type": "code",
   "execution_count": 4,
   "id": "3fe3596d-b262-40c2-9161-46c8db583db1",
   "metadata": {},
   "outputs": [
    {
     "name": "stdout",
     "output_type": "stream",
     "text": [
      "Number of trains: 11113\n"
     ]
    }
   ],
   "source": [
    "num_trains = len(df)\n",
    "print(\"Number of trains:\", num_trains)\n"
   ]
  },
  {
   "cell_type": "code",
   "execution_count": 6,
   "id": "d4a6e736-561b-4f49-a929-477f91434dfd",
   "metadata": {},
   "outputs": [
    {
     "name": "stdout",
     "output_type": "stream",
     "text": [
      "Index(['Train_No', 'Train_Name', 'Source_Station_Name',\n",
      "       'Destination_Station_Name', 'days'],\n",
      "      dtype='object')\n"
     ]
    }
   ],
   "source": [
    "print(df.columns)\n"
   ]
  },
  {
   "cell_type": "code",
   "execution_count": 7,
   "id": "4cdcff0b-61aa-4c45-9ac7-fe41f02b1623",
   "metadata": {},
   "outputs": [
    {
     "name": "stdout",
     "output_type": "stream",
     "text": [
      "Unique destination stations: 924\n"
     ]
    }
   ],
   "source": [
    "unique_destinations = df['Destination_Station_Name'].nunique()\n",
    "print(\"Unique destination stations:\", unique_destinations)"
   ]
  },
  {
   "cell_type": "code",
   "execution_count": 8,
   "id": "0845ec13-f3db-4204-82dc-b5b9776a94ab",
   "metadata": {},
   "outputs": [
    {
     "name": "stdout",
     "output_type": "stream",
     "text": [
      "Unique source stations: 921\n"
     ]
    }
   ],
   "source": [
    "unique_sources = df['Source_Station_Name'].nunique()\n",
    "print(\"Unique source stations:\", unique_sources)\n"
   ]
  },
  {
   "cell_type": "code",
   "execution_count": 9,
   "id": "2fa60f83-e106-465a-9a68-6a65ea3751fc",
   "metadata": {},
   "outputs": [
    {
     "name": "stdout",
     "output_type": "stream",
     "text": [
      "Most common source station: CST-MUMBAI\n"
     ]
    }
   ],
   "source": [
    "common_source = df['Source_Station_Name'].mode()[0]\n",
    "print(\"Most common source station:\", common_source)"
   ]
  },
  {
   "cell_type": "code",
   "execution_count": 10,
   "id": "a27f256d-b6a5-4adb-9d22-4039998586c1",
   "metadata": {},
   "outputs": [
    {
     "name": "stdout",
     "output_type": "stream",
     "text": [
      "Most common destination station: CST-MUMBAI\n"
     ]
    }
   ],
   "source": [
    "common_destination = df['Destination_Station_Name'].mode()[0]\n",
    "print(\"Most common destination station:\", common_destination)"
   ]
  },
  {
   "cell_type": "code",
   "execution_count": 11,
   "id": "7641be1e-c4a7-4088-b9ed-2decd7f5849e",
   "metadata": {},
   "outputs": [
    {
     "name": "stdout",
     "output_type": "stream",
     "text": [
      "Train_No                    0\n",
      "Train_Name                  0\n",
      "Source_Station_Name         0\n",
      "Destination_Station_Name    0\n",
      "days                        0\n",
      "dtype: int64\n"
     ]
    }
   ],
   "source": [
    "print(df.isnull().sum())\n"
   ]
  },
  {
   "cell_type": "code",
   "execution_count": 12,
   "id": "e0f98635-c71b-48aa-a846-cdab24c401d1",
   "metadata": {},
   "outputs": [],
   "source": [
    "# Drop rows with missing values\n",
    "df_cleaned = df.dropna()\n",
    "\n",
    "# OR, fill missing values with placeholder\n",
    "# df_cleaned = df.fillna('Unknown')\n"
   ]
  },
  {
   "cell_type": "code",
   "execution_count": 14,
   "id": "fda5a8cf-abfb-441d-849e-d3159cf3bb08",
   "metadata": {},
   "outputs": [],
   "source": [
    "df_cleaned['Source_Station_Name'] = df_cleaned['Source_Station_Name'].str.upper()\n",
    "df_cleaned['Destination_Station_Name'] = df_cleaned['Destination_Station_Name'].str.upper()\n"
   ]
  },
  {
   "cell_type": "code",
   "execution_count": 15,
   "id": "cad426ec-425b-4e21-a6cd-9b3dc3d7743c",
   "metadata": {},
   "outputs": [
    {
     "name": "stdout",
     "output_type": "stream",
     "text": [
      "   Train_No    Train_Name           Source_Station_Name  \\\n",
      "0       107  SWV-MAO-VLNK               SAWANTWADI ROAD   \n",
      "1       108  VLNK-MAO-SWV                   MADGOAN JN.   \n",
      "2       128  MAO-KOP SPEC                   MADGOAN JN.   \n",
      "3       290  PALACE ON WH             DELHI-SAFDAR JANG   \n",
      "4       401  BSB BHARATDA                    AURANGABAD   \n",
      "5       421  LKO-SVDK FTR                   LUCKNOW JN.   \n",
      "6       422  SVDK-LKO FTR  SHRI MATA VAISHNO DEVI KATRA   \n",
      "7       477  FTR TRAIN NO                         SIRSA   \n",
      "8       502  RJPB-UMB FTR        RAJENDRANAGAR TERMINAL   \n",
      "9       504  PNBE-BTI FTR                     PATNA JN.   \n",
      "\n",
      "             Destination_Station_Name       days  \n",
      "0                         MADGOAN JN.   Saturday  \n",
      "1                     SAWANTWADI ROAD     Friday  \n",
      "2  CHHATRAPATI SHAHU MAHARAJ TERMINUS     Friday  \n",
      "3                   DELHI-SAFDAR JANG  Wednesday  \n",
      "4                        VARANASI JN.   Saturday  \n",
      "5        SHRI MATA VAISHNO DEVI KATRA    Tuesday  \n",
      "6                         LUCKNOW JN.     Monday  \n",
      "7                               SIRSA     Sunday  \n",
      "8                     AMBALA CANTT JN     Monday  \n",
      "9                         BATHINDA JN  Wednesday  \n",
      "<class 'pandas.core.frame.DataFrame'>\n",
      "RangeIndex: 11113 entries, 0 to 11112\n",
      "Data columns (total 5 columns):\n",
      " #   Column                    Non-Null Count  Dtype \n",
      "---  ------                    --------------  ----- \n",
      " 0   Train_No                  11113 non-null  int64 \n",
      " 1   Train_Name                11113 non-null  object\n",
      " 2   Source_Station_Name       11113 non-null  object\n",
      " 3   Destination_Station_Name  11113 non-null  object\n",
      " 4   days                      11113 non-null  object\n",
      "dtypes: int64(1), object(4)\n",
      "memory usage: 434.2+ KB\n",
      "None\n"
     ]
    }
   ],
   "source": [
    "print(df_cleaned.head(10))\n",
    "print(df_cleaned.info())\n"
   ]
  },
  {
   "cell_type": "code",
   "execution_count": 16,
   "id": "9b064c63-57a6-492d-b62e-7e95a7e298a2",
   "metadata": {},
   "outputs": [],
   "source": [
    "# Save cleaned data to a new CSV file\n",
    "df_cleaned.to_csv('Railway_info_cleaned.csv', index=False)\n"
   ]
  },
  {
   "cell_type": "code",
   "execution_count": 17,
   "id": "de286ee7-a2fc-41d4-827f-aa20fcbebddd",
   "metadata": {},
   "outputs": [],
   "source": [
    "# Save cleaned DataFrame to output folder\n",
    "df_cleaned.to_csv('output/Railway_info_cleaned.csv', index=False)\n"
   ]
  },
  {
   "cell_type": "code",
   "execution_count": null,
   "id": "c6e3530b-cfc8-46df-b6ee-d44df6d253a6",
   "metadata": {},
   "outputs": [],
   "source": []
  }
 ],
 "metadata": {
  "kernelspec": {
   "display_name": "Python 3 (ipykernel)",
   "language": "python",
   "name": "python3"
  },
  "language_info": {
   "codemirror_mode": {
    "name": "ipython",
    "version": 3
   },
   "file_extension": ".py",
   "mimetype": "text/x-python",
   "name": "python",
   "nbconvert_exporter": "python",
   "pygments_lexer": "ipython3",
   "version": "3.12.3"
  }
 },
 "nbformat": 4,
 "nbformat_minor": 5
}
