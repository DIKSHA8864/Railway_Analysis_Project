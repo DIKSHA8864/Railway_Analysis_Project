{
 "cells": [
  {
   "cell_type": "code",
   "execution_count": 4,
   "id": "445eb125-d1d2-40f8-adb4-c4b44fb6b001",
   "metadata": {},
   "outputs": [
    {
     "name": "stdout",
     "output_type": "stream",
     "text": [
      "Rows loaded: 11113\n",
      "   Train_No    Train_Name Source_Station_Name  \\\n",
      "0       107  SWV-MAO-VLNK     SAWANTWADI ROAD   \n",
      "1       108  VLNK-MAO-SWV         MADGOAN JN.   \n",
      "2       128  MAO-KOP SPEC         MADGOAN JN.   \n",
      "3       290  PALACE ON WH   DELHI-SAFDAR JANG   \n",
      "4       401  BSB BHARATDA          AURANGABAD   \n",
      "\n",
      "             Destination_Station_Name       days  \n",
      "0                         MADGOAN JN.   Saturday  \n",
      "1                     SAWANTWADI ROAD     Friday  \n",
      "2  CHHATRAPATI SHAHU MAHARAJ TERMINUS     Friday  \n",
      "3                   DELHI-SAFDAR JANG  Wednesday  \n",
      "4                        VARANASI JN.   Saturday  \n"
     ]
    }
   ],
   "source": [
    "# Import libraries\n",
    "import pandas as pd\n",
    "df_cleaned = pd.read_csv('output/Railway_info_cleaned.csv')\n",
    "\n",
    "# Check data\n",
    "print(\"Rows loaded:\", len(df_cleaned))\n",
    "print(df_cleaned.head())"
   ]
  },
  {
   "cell_type": "code",
   "execution_count": 11,
   "id": "592b535e-5f04-46a3-9032-e547d4cc8fdc",
   "metadata": {},
   "outputs": [
    {
     "name": "stdout",
     "output_type": "stream",
     "text": [
      "\n",
      " Trains operating on Saturday: 1593\n",
      "    Train_No    Train_Name Source_Station_Name Destination_Station_Name  \\\n",
      "0        107  SWV-MAO-VLNK     SAWANTWADI ROAD              MADGOAN JN.   \n",
      "4        401  BSB BHARATDA          AURANGABAD             VARANASI JN.   \n",
      "21      1196  NGP-KRMI SPL      NAGPUR JN.(CR)                  KARMALI   \n",
      "28      1706   JBP-BDTS SF            JABALPUR          BANDRA TERMINUS   \n",
      "45      2834  SRC-RJT SF A     SANTRAGACHI JN.                   RAJKOT   \n",
      "\n",
      "        days  Num_Days Train_Category  \n",
      "0   Saturday         1        Weekend  \n",
      "4   Saturday         1        Weekend  \n",
      "21  Saturday         1        Weekend  \n",
      "28  Saturday         1        Weekend  \n",
      "45  Saturday         1        Weekend  \n",
      "\n",
      " Trains starting from DELHI: 0\n",
      "Empty DataFrame\n",
      "Columns: [Train_No, Train_Name, Source_Station_Name, Destination_Station_Name, days, Num_Days, Train_Category]\n",
      "Index: []\n"
     ]
    }
   ],
   "source": [
    "# 3.1 Filter trains that operate on Saturday\n",
    "saturday_trains = df_cleaned[df_cleaned['days'].str.contains('Sat', case=False, na=False)]\n",
    "print(\"\\n Trains operating on Saturday:\", len(saturday_trains))\n",
    "print(saturday_trains.head())\n",
    "\n",
    "# 3.2 Filter trains starting from a specific station (e.g., DELHI)\n",
    "station_name = 'DELHI'  # change as needed\n",
    "station_trains = df_cleaned[df_cleaned['Source_Station_Name'] == station_name]\n",
    "print(f\"\\n Trains starting from {station_name}:\", len(station_trains))\n",
    "print(station_trains.head())"
   ]
  },
  {
   "cell_type": "code",
   "execution_count": 12,
   "id": "707edf93-37f2-4a4e-9cc7-e0bf6a897963",
   "metadata": {},
   "outputs": [
    {
     "name": "stdout",
     "output_type": "stream",
     "text": [
      "\n",
      " Number of trains per source station:\n",
      "  Source_Station_Name  Train_Count\n",
      "0        ABHANPUR JN.            2\n",
      "1              ABOHAR            1\n",
      "2            ABU ROAD            1\n",
      "3        ACHHNERA JN.            1\n",
      "4            ADILABAD            5\n"
     ]
    }
   ],
   "source": [
    "# 4.1 Group by Source Station & count trains\n",
    "trains_per_source = df_cleaned.groupby('Source_Station_Name').size().reset_index(name='Train_Count')\n",
    "print(\"\\n Number of trains per source station:\")\n",
    "print(trains_per_source.head())"
   ]
  },
  {
   "cell_type": "code",
   "execution_count": 13,
   "id": "aff1e0ac-01b2-4e57-97a9-4266df2f9953",
   "metadata": {},
   "outputs": [
    {
     "name": "stdout",
     "output_type": "stream",
     "text": [
      "\n",
      " Average trains per day (simple estimate):\n",
      "  Source_Station_Name  Train_Count  Avg_Trains_Per_Day\n",
      "0        ABHANPUR JN.            2            0.285714\n",
      "1              ABOHAR            1            0.142857\n",
      "2            ABU ROAD            1            0.142857\n",
      "3        ACHHNERA JN.            1            0.142857\n",
      "4            ADILABAD            5            0.714286\n"
     ]
    }
   ],
   "source": [
    "# 4.2 Calculate average trains per day (simple estimate)\n",
    "# Assumption: total trains divided by 7 days\n",
    "trains_per_source['Avg_Trains_Per_Day'] = trains_per_source['Train_Count'] / 7\n",
    "print(\"\\n Average trains per day (simple estimate):\")\n",
    "print(trains_per_source.head())"
   ]
  },
  {
   "cell_type": "code",
   "execution_count": 14,
   "id": "a39f5373-24a6-4b5d-b0ef-5c7d48c2a5a6",
   "metadata": {},
   "outputs": [
    {
     "name": "stdout",
     "output_type": "stream",
     "text": [
      "\n",
      " Average trains per day (precise by operating days):\n",
      "  Source_Station_Name  Avg_Trains_Per_Day\n",
      "0        ABHANPUR JN.                 1.0\n",
      "1              ABOHAR                 1.0\n",
      "2            ABU ROAD                 1.0\n",
      "3        ACHHNERA JN.                 1.0\n",
      "4            ADILABAD                 1.0\n"
     ]
    }
   ],
   "source": [
    "# 4.3 (Optional) More precise: Count actual days per train\n",
    "df_cleaned['Num_Days'] = df_cleaned['days'].apply(lambda x: len(str(x).split(',')))\n",
    "avg_trains_per_day_precise = df_cleaned.groupby('Source_Station_Name')['Num_Days'].mean().reset_index(name='Avg_Trains_Per_Day')\n",
    "print(\"\\n Average trains per day (precise by operating days):\")\n",
    "print(avg_trains_per_day_precise.head())\n",
    "\n"
   ]
  },
  {
   "cell_type": "code",
   "execution_count": 15,
   "id": "576262de-50a4-447d-b16b-6ef5a02e800b",
   "metadata": {},
   "outputs": [
    {
     "name": "stdout",
     "output_type": "stream",
     "text": [
      "\n",
      " Train Category column added:\n",
      "  Source_Station_Name       days Train_Category\n",
      "0     SAWANTWADI ROAD   Saturday        Weekend\n",
      "1         MADGOAN JN.     Friday        Weekday\n",
      "2         MADGOAN JN.     Friday        Weekday\n",
      "3   DELHI-SAFDAR JANG  Wednesday        Weekday\n",
      "4          AURANGABAD   Saturday        Weekend\n"
     ]
    }
   ],
   "source": [
    "# 5.1 Add new column: Train Category (Weekday or Weekend)\n",
    "def categorize_days(days):\n",
    "    days = str(days)\n",
    "    if 'Sat' in days or 'Sun' in days:\n",
    "        return 'Weekend'\n",
    "    else:\n",
    "        return 'Weekday'\n",
    "\n",
    "df_cleaned['Train_Category'] = df_cleaned['days'].apply(categorize_days)\n",
    "print(\"\\n Train Category column added:\")\n",
    "print(df_cleaned[['Source_Station_Name', 'days', 'Train_Category']].head())"
   ]
  },
  {
   "cell_type": "code",
   "execution_count": 16,
   "id": "1eae0013-3d39-40bb-b8a5-b7563feb4654",
   "metadata": {},
   "outputs": [
    {
     "name": "stdout",
     "output_type": "stream",
     "text": [
      "\n",
      " Enriched CSV saved as: output/Railway_info_enriched.csv\n",
      "\n",
      " LEVEL 2 COMPLETED SUCCESSFULLY!\n"
     ]
    }
   ],
   "source": [
    "df_cleaned.to_csv('output/Railway_info_enriched.csv', index=False)\n",
    "print(\"\\n Enriched CSV saved as: output/Railway_info_enriched.csv\")\n",
    "\n",
    "print(\"\\n LEVEL 2 COMPLETED SUCCESSFULLY!\")"
   ]
  },
  {
   "cell_type": "code",
   "execution_count": null,
   "id": "0aa0285e-53f5-49de-941c-6e3499a64655",
   "metadata": {},
   "outputs": [],
   "source": []
  }
 ],
 "metadata": {
  "kernelspec": {
   "display_name": "Python 3 (ipykernel)",
   "language": "python",
   "name": "python3"
  },
  "language_info": {
   "codemirror_mode": {
    "name": "ipython",
    "version": 3
   },
   "file_extension": ".py",
   "mimetype": "text/x-python",
   "name": "python",
   "nbconvert_exporter": "python",
   "pygments_lexer": "ipython3",
   "version": "3.12.3"
  }
 },
 "nbformat": 4,
 "nbformat_minor": 5
}
